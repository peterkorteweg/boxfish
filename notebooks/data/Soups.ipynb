{
 "cells": [
  {
   "cell_type": "markdown",
   "metadata": {},
   "source": [
    "# Soups\n",
    "\n",
    "Soups is a module that contains functions for the Beautiful Soup library.\n",
    "\n",
    "The Beautiful soup library is a library for retrieving data from HTML files. For more information on Beautiful Soup, see the website at [Crummy](https://www.crummy.com/software/BeautifulSoup/bs4/doc/).\n"
   ]
  },
  {
   "cell_type": "markdown",
   "metadata": {},
   "source": [
    "# Initialization\n",
    "\n",
    "The following code imports soups. The code assumes that the current directory contains the scrape package."
   ]
  },
  {
   "cell_type": "code",
   "execution_count": 1,
   "metadata": {},
   "outputs": [
    {
     "name": "stdout",
     "output_type": "stream",
     "text": [
      "Current dir: D:\\Projects\\Python\\projects\\scrape\n",
      "Initializing scrape ...\n"
     ]
    }
   ],
   "source": [
    "import os\n",
    "import sys\n",
    "CURR_DIR = os.path.dirname(os.path.abspath('..'))\n",
    "print('Current dir: ' + CURR_DIR)\n",
    "sys.path.append(CURR_DIR)\n",
    "from scrape import soups\n",
    "from bs4 import BeautifulSoup"
   ]
  },
  {
   "cell_type": "markdown",
   "metadata": {},
   "source": [
    "# Working with soups"
   ]
  },
  {
   "cell_type": "markdown",
   "metadata": {},
   "source": [
    "### Importing and exporting from HTML to file\n",
    "The functions `read` and `write` are used to read and write HTML pages from and to files."
   ]
  },
  {
   "cell_type": "code",
   "execution_count": 9,
   "metadata": {},
   "outputs": [],
   "source": [
    "filename = r'testpage.html'\n",
    "bpage = soups.read(filename)\n",
    "#soups.write(filename_out, bpage)"
   ]
  },
  {
   "cell_type": "markdown",
   "metadata": {},
   "source": [
    "### Importing and exporting from HTML to BS4\n",
    "In this example we will retrieve information from a small HTML text. The text is similar to the example used to explain Beautiful Soup. We use the function`get_soup` to import an HTML page, and convert it to a BS4 object. We use `get_page` to convert the soup to HTML again."
   ]
  },
  {
   "cell_type": "code",
   "execution_count": 2,
   "metadata": {},
   "outputs": [
    {
     "name": "stdout",
     "output_type": "stream",
     "text": [
      "<class 'bs4.BeautifulSoup'>\n",
      "<class 'str'>\n"
     ]
    }
   ],
   "source": [
    "page = \"\"\"<html><head><title>The Dormouse's story</title></head>\n",
    "    <body>\n",
    "    <p class=\"title\"><b>The Dormouse's story</b></p>\n",
    "\n",
    "    <p class=\"story\">Once upon a time there were three little sisters; and their names were\n",
    "    <a href=\"http://example.com/elsie\" class=\"sister\" id=\"link1\">Elsie</a>,\n",
    "    <a href=\"http://example.com/lacie\" class=\"sister\" id=\"link2\">Lacie</a> and\n",
    "    <a href=\"http://example.com/tillie\" class=\"sister\" id=\"link3\">Tillie</a>;\n",
    "    and they lived at the bottom of a well.</p>\n",
    "\n",
    "    <p class=\"story\">...</p>\n",
    "    \"\"\"\n",
    "\n",
    "soup = soups.get_soup(page)\n",
    "print(type(soup))\n",
    "\n",
    "apage = soups.get_page(soup)\n",
    "print(type(apage))"
   ]
  },
  {
   "cell_type": "markdown",
   "metadata": {},
   "source": [
    "### Retrieving strings and links from the soup\n",
    "The function `get_strings` retrieves a list with all strings from `soup`."
   ]
  },
  {
   "cell_type": "code",
   "execution_count": 3,
   "metadata": {},
   "outputs": [
    {
     "data": {
      "text/plain": [
       "[\"The Dormouse's story\",\n",
       " \"The Dormouse's story\",\n",
       " 'Once upon a time there were three little sisters; and their names were',\n",
       " 'Elsie',\n",
       " ',',\n",
       " 'Lacie',\n",
       " 'and',\n",
       " 'Tillie',\n",
       " ';\\n    and they lived at the bottom of a well.',\n",
       " '...']"
      ]
     },
     "execution_count": 3,
     "metadata": {},
     "output_type": "execute_result"
    }
   ],
   "source": [
    "alist = soups.get_strings(soup)\n",
    "[astr for astr in alist]"
   ]
  },
  {
   "cell_type": "markdown",
   "metadata": {},
   "source": [
    " The function `get_hrefs` retrieves a list with all links (href tags) from `soup`."
   ]
  },
  {
   "cell_type": "code",
   "execution_count": 4,
   "metadata": {},
   "outputs": [
    {
     "data": {
      "text/plain": [
       "['http://example.com/elsie',\n",
       " 'http://example.com/lacie',\n",
       " 'http://example.com/tillie']"
      ]
     },
     "execution_count": 4,
     "metadata": {},
     "output_type": "execute_result"
    }
   ],
   "source": [
    "alist = soups.get_hrefs(soup)\n",
    "[astr for astr in alist]"
   ]
  },
  {
   "cell_type": "markdown",
   "metadata": {},
   "source": [
    "### Retrieving information from Tags and Results\n",
    "\n",
    "The functions `get_strings` and `get_hrefs` can also be used to get information from BS4 objects tag and resultset.\n",
    "\n",
    "**ResultSet**"
   ]
  },
  {
   "cell_type": "code",
   "execution_count": 5,
   "metadata": {},
   "outputs": [
    {
     "name": "stdout",
     "output_type": "stream",
     "text": [
      "ResultSet\n"
     ]
    },
    {
     "data": {
      "text/plain": [
       "[['http://example.com/elsie'],\n",
       " ['http://example.com/lacie'],\n",
       " ['http://example.com/tillie']]"
      ]
     },
     "execution_count": 5,
     "metadata": {},
     "output_type": "execute_result"
    }
   ],
   "source": [
    "#Get strings from a resultset with all a tags\n",
    "results = soup.find_all(\"a\")\n",
    "alist = soups.get_strings(results)\n",
    "print(type(results).__name__)\n",
    "[astr for astr in alist]\n",
    "hlist = soups.get_hrefs(results)\n",
    "[hstr for hstr in hlist]"
   ]
  },
  {
   "cell_type": "markdown",
   "metadata": {},
   "source": [
    "**Tag**"
   ]
  },
  {
   "cell_type": "code",
   "execution_count": 6,
   "metadata": {},
   "outputs": [
    {
     "name": "stdout",
     "output_type": "stream",
     "text": [
      "Tag\n",
      "['Elsie']\n",
      "['http://example.com/elsie']\n"
     ]
    }
   ],
   "source": [
    "#Get string from a tag with id=\"link1\"\n",
    "tag = soup.find(id=\"link1\")\n",
    "print(type(tag).__name__)\n",
    "alist = soups.get_strings(tag)\n",
    "print(alist)\n",
    "hlist = soups.get_hrefs(tag)\n",
    "print(hlist)"
   ]
  },
  {
   "cell_type": "markdown",
   "metadata": {},
   "source": [
    "## Extracting a table\n",
    "\n",
    "TODO"
   ]
  },
  {
   "cell_type": "markdown",
   "metadata": {},
   "source": [
    "# Editing a soup"
   ]
  },
  {
   "cell_type": "markdown",
   "metadata": {},
   "source": [
    "### Splitting and merging a soup\n",
    "The method `split` returns a Beautiful Soup object, meta, which contains all HTML code outside \\< body \\>, plus an empty \\< body \\> and a tag which contains the \\< body \\>. Splitting provides a deep copy."
   ]
  },
  {
   "cell_type": "code",
   "execution_count": 7,
   "metadata": {},
   "outputs": [
    {
     "name": "stdout",
     "output_type": "stream",
     "text": [
      "Meta:\n",
      "<html><head><title>The Dormouse's story</title></head>\n",
      "<body></body></html>\n",
      "\n",
      "Body:\n",
      "<body>\n",
      "<p class=\"title\"><b>The Dormouse's story</b></p>\n",
      "<p class=\"story\">Once upon a time there were three little sisters; and their names were\n",
      "    <a class=\"sister\" href=\"http://example.com/elsie\" id=\"link1\">Elsie</a>,\n",
      "    <a class=\"sister\" href=\"http://example.com/lacie\" id=\"link2\">Lacie</a> and\n",
      "    <a class=\"sister\" href=\"http://example.com/tillie\" id=\"link3\">Tillie</a>;\n",
      "    and they lived at the bottom of a well.</p>\n",
      "<p class=\"story\">...</p>\n",
      "</body>\n"
     ]
    }
   ],
   "source": [
    "[meta,body] = soups.split(soup)\n",
    "print('Meta:')\n",
    "print(meta)\n",
    "print('\\nBody:')\n",
    "print(body)"
   ]
  },
  {
   "cell_type": "code",
   "execution_count": 8,
   "metadata": {},
   "outputs": [
    {
     "name": "stdout",
     "output_type": "stream",
     "text": [
      "Old Soup:\n",
      "<html><head><title>The Dormouse's story</title></head>\n",
      "<body>\n",
      "<p class=\"title\"><b>The Dormouse's story</b></p>\n",
      "<p class=\"story\">Once upon a time there were three little sisters; and their names were\n",
      "    <a class=\"sister\" href=\"http://example.com/elsie\" id=\"link1\">Elsie</a>,\n",
      "    <a class=\"sister\" href=\"http://example.com/lacie\" id=\"link2\">Lacie</a> and\n",
      "    <a class=\"sister\" href=\"http://example.com/tillie\" id=\"link3\">Tillie</a>;\n",
      "    and they lived at the bottom of a well.</p>\n",
      "<p class=\"story\">...</p>\n",
      "</body></html>\n",
      "\n",
      "New Soup:\n",
      "<html><head><title>THE DORMOUSE'S STORY</title></head>\n",
      "<body>\n",
      "<p class=\"title\"><b>The Dormouse's story</b></p>\n",
      "<p class=\"story\">Once upon a time there were three little sisters; and their names were\n",
      "    <a class=\"sister\" href=\"http://example.com/elsie\" id=\"link1\">ELSIE</a>,\n",
      "    <a class=\"sister\" href=\"http://example.com/lacie\" id=\"link2\">Lacie</a> and\n",
      "    <a class=\"sister\" href=\"http://example.com/tillie\" id=\"link3\">Tillie</a>;\n",
      "    and they lived at the bottom of a well.</p>\n",
      "<p class=\"story\">...</p>\n",
      "</body></html>\n"
     ]
    }
   ],
   "source": [
    "#Change meta and body\n",
    "meta.title.string = meta.title.string.upper()\n",
    "atag = body.find(id=\"link1\")\n",
    "atag.string = atag.string.upper()\n",
    "\n",
    "new_soup = soups.merge(meta,body)\n",
    "print('Old Soup:')\n",
    "print(soup)\n",
    "\n",
    "print('\\nNew Soup:')\n",
    "print(new_soup)"
   ]
  }
 ],
 "metadata": {
  "kernelspec": {
   "display_name": "Python [conda env:snowflakes]",
   "language": "python",
   "name": "conda-env-snowflakes-py"
  },
  "language_info": {
   "codemirror_mode": {
    "name": "ipython",
    "version": 3
   },
   "file_extension": ".py",
   "mimetype": "text/x-python",
   "name": "python",
   "nbconvert_exporter": "python",
   "pygments_lexer": "ipython3",
   "version": "3.9.7"
  }
 },
 "nbformat": 4,
 "nbformat_minor": 4
}
