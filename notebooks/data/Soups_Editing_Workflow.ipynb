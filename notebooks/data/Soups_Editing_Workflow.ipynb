{
 "cells": [
  {
   "cell_type": "markdown",
   "metadata": {},
   "source": [
    "# Soups Editing workflow\n",
    "\n",
    "This notebooks contains a workflow which can be used to edit an HTML page. The workflow consists of the following steps:\n",
    "\n",
    "1. Read HTML page\n",
    "2. Create soup from page\n",
    "3. Extract specific HTML part into new soup\n",
    "4. Create new page from new soup\n",
    "5. Save new HTML page"
   ]
  },
  {
   "cell_type": "markdown",
   "metadata": {},
   "source": [
    "# Initialization\n",
    "\n",
    "The following code imports soups. The code assumes that the current directory contains the scrape package."
   ]
  },
  {
   "cell_type": "code",
   "execution_count": 1,
   "metadata": {},
   "outputs": [
    {
     "name": "stdout",
     "output_type": "stream",
     "text": [
      "Current dir: D:\\Projects\\Python\\projects\\scrape\n",
      "Initializing scrape ...\n"
     ]
    }
   ],
   "source": [
    "import os\n",
    "import sys\n",
    "CURR_DIR = os.path.dirname(os.path.abspath('..'))\n",
    "print('Current dir: ' + CURR_DIR)\n",
    "sys.path.append(CURR_DIR)\n",
    "from bs4 import BeautifulSoup\n",
    "from scrape import soups"
   ]
  },
  {
   "cell_type": "markdown",
   "metadata": {},
   "source": [
    "# Workflow"
   ]
  },
  {
   "cell_type": "code",
   "execution_count": 2,
   "metadata": {},
   "outputs": [
    {
     "name": "stdout",
     "output_type": "stream",
     "text": [
      "Compare results via browser\n"
     ]
    }
   ],
   "source": [
    "# Read HTML page, create soup\n",
    "filename = r'testpage.html'\n",
    "page = soups.read(filename)\n",
    "soup = soups.get_soup(page)\n",
    "\n",
    "# Extract specific HTML information into new soup\n",
    "[meta, body] = soups.split(soup)\n",
    "\n",
    "aset = soup.find_all(class_ = 'search-result-content-inner')\n",
    "asoup = soups.merge(meta, aset)\n",
    "\n",
    "# Create new page, save HTML page\n",
    "afilename = r'testpage_new.html'\n",
    "apage = soups.get_page(asoup)\n",
    "soups.write(afilename, apage)\n",
    "\n",
    "print('Compare results via browser')"
   ]
  },
  {
   "cell_type": "code",
   "execution_count": 3,
   "metadata": {},
   "outputs": [
    {
     "name": "stdout",
     "output_type": "stream",
     "text": [
      "['Schoutsakker 14', '1871 CZ Schoorl', '€ 635.000 k.k.', '172 m²', '/', '577 m²', '4 kamers', 'VLIEG Makelaars Bergen OG']\n"
     ]
    }
   ],
   "source": [
    "alist = soups.get_strings(aset[0])\n",
    "print(alist)"
   ]
  },
  {
   "cell_type": "code",
   "execution_count": 4,
   "metadata": {},
   "outputs": [
    {
     "name": "stdout",
     "output_type": "stream",
     "text": [
      "<div class=\"search-result-content-inner\">\n",
      "<div class=\"search-result__header fd-flex fd-m-bottom-2xs fd-p-top-2xs--bp-s\" data-test-search-result-header=\"\">\n",
      "<div class=\"search-result__header-title-col\">\n",
      "<a data-object-url-tracking=\"resultlist\" data-search-result-item-anchor=\"41152737\" data-track-click=\"Listing Results Clicked\" data-track-exclude-page-properties=\"\" data-track-props='{\"global_id\":5707374,\"navigation_trigger\":\"listing_results_listing\"}' href=\"/koop/schoorl/huis-41152737-schoutsakker-14/\">\n",
      "<h2 class=\"search-result__header-title fd-m-none\" data-test-search-result-header-title=\"\">\n",
      "\n",
      "              Schoutsakker 14\n",
      "\n",
      "        </h2>\n",
      "</a>\n",
      "<a data-object-url-tracking=\"resultlist\" data-search-result-item-anchor=\"41152737\" data-track-click=\"Listing Results Clicked\" data-track-exclude-page-properties=\"\" data-track-props='{\"global_id\":5707374,\"navigation_trigger\":\"listing_results_listing\"}' href=\"/koop/schoorl/huis-41152737-schoutsakker-14/\">\n",
      "<h4 class=\"search-result__header-subtitle fd-m-none\" data-test-search-result-header-subtitle=\"\">\n",
      "\n",
      "            1871 CZ Schoorl\n",
      "\n",
      "\n",
      "\n",
      "        </h4>\n",
      "</a>\n",
      "</div>\n",
      "<div class=\"user-save-object\" data-is-identity-server-login=\"true\" data-is-user-logged-in=\"false\" data-save-object=\"\" data-save-object-tinyid=\"41152737\">\n",
      "<button class=\"user-save-object__handle user-save-object__handle--add fd-p-none fd-m-none\" data-save-object-add-url=\"/mijn/objectactions/saveobject/?internalId=e37d5dd2-7d05-48bc-84ec-ef4371df3e06&amp;tinyId=41152737&amp;trackingListingOfferingType=koop&amp;trackingSiteSection=listings&amp;trackingPageType=listing_results&amp;trackingNavigationTrigger=listing_results_listing\" data-save-object-handle=\"add\">\n",
      "<span class=\"user-save-object__handle-icon icon-heart-blue\" data-grunticon-embed=\"\"></span>\n",
      "</button>\n",
      "<button class=\"user-save-object__handle user-save-object__handle--remove fd-p-none fd-m-none\" data-save-object-handle=\"remove\" data-save-object-remove-url=\"/mijn/objectactions/removesavedobject/?internalId=e37d5dd2-7d05-48bc-84ec-ef4371df3e06&amp;tinyId=41152737&amp;trackingListingOfferingType=koop&amp;trackingSiteSection=listings&amp;trackingPageType=listing_results&amp;trackingNavigationTrigger=listing_results_listing\">\n",
      "<span class=\"user-save-object__handle-icon icon-heart-filled-red\" data-grunticon-embed=\"\"></span>\n",
      "</button>\n",
      "</div>\n",
      "</div> <div class=\"search-result-info search-result-info-price\">\n",
      "<span class=\"search-result-price\">€ 635.000 k.k.</span>\n",
      "</div>\n",
      "<div class=\"search-result-info\">\n",
      "<ul class=\"search-result-kenmerken\">\n",
      "<li>\n",
      "<span title=\"Gebruiksoppervlakte wonen\">172 m²</span>\n",
      "\n",
      "                                     / \n",
      "\n",
      "                                    <span title=\"Perceeloppervlakte\">577 m²</span>\n",
      "</li>\n",
      "<li>4 kamers</li>\n",
      "</ul>\n",
      "</div>\n",
      "<a class=\"search-result-makelaar\" href=\"/makelaars/bergen-nh/12182-vlieg-makelaars-bergen-og/\">\n",
      "<span class=\"search-result-makelaar-icon icon-logo-nvm\"></span>\n",
      "<span class=\"search-result-makelaar-name\">VLIEG Makelaars Bergen OG</span>\n",
      "</a>\n",
      "</div>\n"
     ]
    }
   ],
   "source": [
    "print(aset[0])"
   ]
  }
 ],
 "metadata": {
  "kernelspec": {
   "display_name": "Python [conda env:snowflakes]",
   "language": "python",
   "name": "conda-env-snowflakes-py"
  },
  "language_info": {
   "codemirror_mode": {
    "name": "ipython",
    "version": 3
   },
   "file_extension": ".py",
   "mimetype": "text/x-python",
   "name": "python",
   "nbconvert_exporter": "python",
   "pygments_lexer": "ipython3",
   "version": "3.9.7"
  }
 },
 "nbformat": 4,
 "nbformat_minor": 4
}
