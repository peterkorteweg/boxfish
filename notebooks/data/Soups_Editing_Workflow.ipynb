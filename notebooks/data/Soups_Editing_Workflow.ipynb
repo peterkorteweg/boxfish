{
 "cells": [
  {
   "cell_type": "markdown",
   "metadata": {},
   "source": [
    "# Soups Editing workflow\n",
    "\n",
    "This notebooks contains a workflow which can be used to edit an HTML page. The workflow consists of the following steps:\n",
    "\n",
    "1. Read HTML page\n",
    "2. Create soup from page\n",
    "3. Extract specific HTML part into new soup\n",
    "4. Create new page from new soup\n",
    "5. Save new HTML page"
   ]
  },
  {
   "cell_type": "markdown",
   "metadata": {},
   "source": [
    "# Initialization\n",
    "\n",
    "The following code imports soups. The code assumes that the current directory contains the scrape package."
   ]
  },
  {
   "cell_type": "code",
   "execution_count": 1,
   "metadata": {},
   "outputs": [
    {
     "name": "stdout",
     "output_type": "stream",
     "text": [
      "Current dir: D:\\Projects\\Python\\projects\\scrape\n",
      "Initializing scrape ...\n"
     ]
    }
   ],
   "source": [
    "import os\n",
    "import sys\n",
    "CURR_DIR = os.path.dirname(os.path.abspath('..'))\n",
    "print('Current dir: ' + CURR_DIR)\n",
    "sys.path.append(CURR_DIR)\n",
    "from bs4 import BeautifulSoup\n",
    "from scrape import soups"
   ]
  },
  {
   "cell_type": "markdown",
   "metadata": {},
   "source": [
    "# Workflow"
   ]
  },
  {
   "cell_type": "code",
   "execution_count": 2,
   "metadata": {},
   "outputs": [
    {
     "name": "stdout",
     "output_type": "stream",
     "text": [
      "Compare results via browser\n"
     ]
    }
   ],
   "source": [
    "# Read HTML page, create soup\n",
    "filename = r'dormouse.html'\n",
    "page = soups.read(filename)\n",
    "soup = soups.get_soup(page)\n",
    "\n",
    "# Extract specific HTML information into new soup\n",
    "[meta, body] = soups.split(soup)\n",
    "\n",
    "aset = soup.find_all(class_ = 'story')\n",
    "asoup = soups.merge(meta, aset)\n",
    "\n",
    "# Create new page, save HTML page\n",
    "afilename = r'dormouse_new.html'\n",
    "apage = soups.get_page(asoup)\n",
    "soups.write(afilename, apage)\n",
    "\n",
    "print('Compare results via browser')"
   ]
  },
  {
   "cell_type": "code",
   "execution_count": 3,
   "metadata": {},
   "outputs": [
    {
     "name": "stdout",
     "output_type": "stream",
     "text": [
      "['Once upon a time there were three little sisters; and their names were', 'Elsie', ',', 'Lacie', 'and', 'Tillie', ';\\nand they lived at the bottom of a well.']\n"
     ]
    }
   ],
   "source": [
    "alist = soups.get_strings(aset[0])\n",
    "print(alist)"
   ]
  },
  {
   "cell_type": "code",
   "execution_count": 4,
   "metadata": {},
   "outputs": [
    {
     "name": "stdout",
     "output_type": "stream",
     "text": [
      "<p class=\"story\" id=\"story1\">Once upon a time there were three little sisters; and their names were\n",
      "<a class=\"sister\" href=\"http://example.com/elsie\" id=\"link1\">Elsie</a>,\n",
      "<a class=\"sister\" href=\"http://example.com/lacie\" id=\"link2\">Lacie</a> and\n",
      "<a class=\"sister\" href=\"http://example.com/tillie\" id=\"link3\">Tillie</a>;\n",
      "and they lived at the bottom of a well.</p>\n"
     ]
    }
   ],
   "source": [
    "print(aset[0])"
   ]
  }
 ],
 "metadata": {
  "kernelspec": {
   "display_name": "Python [conda env:snowflakes]",
   "language": "python",
   "name": "conda-env-snowflakes-py"
  },
  "language_info": {
   "codemirror_mode": {
    "name": "ipython",
    "version": 3
   },
   "file_extension": ".py",
   "mimetype": "text/x-python",
   "name": "python",
   "nbconvert_exporter": "python",
   "pygments_lexer": "ipython3",
   "version": "3.9.7"
  }
 },
 "nbformat": 4,
 "nbformat_minor": 4
}
