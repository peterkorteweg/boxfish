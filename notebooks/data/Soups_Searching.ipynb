{
 "cells": [
  {
   "cell_type": "markdown",
   "metadata": {},
   "source": [
    "# Soups - Searching\n",
    "\n",
    "Soups is a module that contains functions for the Beautiful Soup library.\n",
    "\n",
    "This notebook provides examples for searching in soup objects."
   ]
  },
  {
   "cell_type": "markdown",
   "metadata": {},
   "source": [
    "# Initialization\n",
    "\n",
    "The following code imports soups. The code assumes that the current directory contains the scrape package."
   ]
  },
  {
   "cell_type": "code",
   "execution_count": 1,
   "metadata": {},
   "outputs": [
    {
     "name": "stdout",
     "output_type": "stream",
     "text": [
      "Current dir: D:\\Projects\\Python\\projects\\scrape\n",
      "Initializing scrape ...\n"
     ]
    }
   ],
   "source": [
    "import os\n",
    "import sys\n",
    "CURR_DIR = os.path.dirname(os.path.abspath('..'))\n",
    "print('Current dir: ' + CURR_DIR)\n",
    "sys.path.append(CURR_DIR)\n",
    "from scrape import soups\n",
    "from bs4 import BeautifulSoup"
   ]
  },
  {
   "cell_type": "markdown",
   "metadata": {},
   "source": [
    "# Searching with soups\n",
    "\n",
    "## Searching tags and results\n",
    "The functions `find_item`, `find_items`. The functions have the same syntax.\n",
    "\n",
    "`ritem = find_item(aitem, afilter=None, astr='')` returns a bs4 tag\n",
    "\n",
    "`ritems = find_items(aitem, afilter=None, astr='')` returns a list of bs4 tags.\n",
    "\n"
   ]
  },
  {
   "cell_type": "markdown",
   "metadata": {},
   "source": [
    "## Searching lists and tables\n",
    "\n"
   ]
  },
  {
   "cell_type": "markdown",
   "metadata": {},
   "source": [
    "The function `find_lists` returns a list with all lists. Lists are determined by the elements `<dl>`, `<ol>`, and `<ul>`."
   ]
  },
  {
   "cell_type": "markdown",
   "metadata": {},
   "source": [
    "The function `find_tables` returns a list with all tables. Tables are detemined by the elements `<>`."
   ]
  },
  {
   "cell_type": "markdown",
   "metadata": {},
   "source": [
    "### Searching along the tree\n",
    "The functions `find_common_parent` and `find_descendants` can be used to search along the bs4 tree."
   ]
  }
 ],
 "metadata": {
  "kernelspec": {
   "display_name": "Python [conda env:snowflakes]",
   "language": "python",
   "name": "conda-env-snowflakes-py"
  },
  "language_info": {
   "codemirror_mode": {
    "name": "ipython",
    "version": 3
   },
   "file_extension": ".py",
   "mimetype": "text/x-python",
   "name": "python",
   "nbconvert_exporter": "python",
   "pygments_lexer": "ipython3",
   "version": "3.9.7"
  }
 },
 "nbformat": 4,
 "nbformat_minor": 4
}
