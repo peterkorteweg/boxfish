{
 "cells": [
  {
   "cell_type": "markdown",
   "metadata": {},
   "source": [
    "# Config\n",
    "\n",
    "This notebooks provides examples for the module `config`. Config provides functions for working with scrape configurations.\n"
   ]
  },
  {
   "cell_type": "markdown",
   "metadata": {},
   "source": [
    "# Initialization\n",
    "\n",
    "The following code imports config. The code assumes that the current directory contains the scrape package."
   ]
  },
  {
   "cell_type": "code",
   "execution_count": 3,
   "metadata": {},
   "outputs": [
    {
     "name": "stdout",
     "output_type": "stream",
     "text": [
      "Current dir: D:\\Projects\\Python\\projects\\scrape\n",
      "Initializing scrape ...\n"
     ]
    }
   ],
   "source": [
    "import os\n",
    "import sys\n",
    "CURR_DIR = os.path.dirname(os.path.abspath('..'))\n",
    "print('Current dir: ' + CURR_DIR)\n",
    "sys.path.append(CURR_DIR)\n",
    "import scrape"
   ]
  },
  {
   "cell_type": "markdown",
   "metadata": {},
   "source": [
    "# Working with configurations\n",
    "Scrape uses configurations to provide information for scraping a specific website. A configuration is a dictionary with the following keys:\n",
    "\n",
    "+ url: Data on website URL\n",
    "+ driver: Data on browser driver\n",
    "+ website: Data on website HTML layout\n",
    "+ dataset: Data on dataset output file handling\n"
   ]
  },
  {
   "cell_type": "markdown",
   "metadata": {},
   "source": [
    "### Creating a configuration\n",
    "The function `create` creates a config dictionary. The optional parameter `url` specifies the website URL."
   ]
  },
  {
   "cell_type": "code",
   "execution_count": 4,
   "metadata": {},
   "outputs": [],
   "source": [
    "aurl = r'https://www.crummy.com/software/BeautifulSoup/bs4/doc/'\n",
    "aconfig = scrape.config.create(aurl)"
   ]
  },
  {
   "cell_type": "markdown",
   "metadata": {},
   "source": [
    "**url**\n",
    "\n",
    "The url keyword contains a string with the URL of the website to scrape. The url mainly serves as a placeholder and example of an URL that can be scraped with that configuration."
   ]
  },
  {
   "cell_type": "code",
   "execution_count": 5,
   "metadata": {},
   "outputs": [
    {
     "data": {
      "text/plain": [
       "'https://www.crummy.com/software/BeautifulSoup/bs4/doc/'"
      ]
     },
     "execution_count": 5,
     "metadata": {},
     "output_type": "execute_result"
    }
   ],
   "source": [
    "aconfig['url']"
   ]
  },
  {
   "cell_type": "markdown",
   "metadata": {},
   "source": [
    "**driver**\n",
    "\n",
    "Driver contains a dictionary with data on the browser driver. \n",
    "\n",
    "Name|Type|Description\n",
    ":-|:-|:-\n",
    "package|str | `requests`, `selenium`\n",
    "filename| str | filename dataset\n",
    "log| str  | filename log\n",
    "timeout| int |  Timeout in seconds\n",
    "sleep| dict | Timeout in seconds\n",
    "headless|  bool | Headless mode true (default) or false\n",
    "\n",
    "The folder separator in filenames can be either represented by a double backslash `\\\\` or a slash `/`."
   ]
  },
  {
   "cell_type": "code",
   "execution_count": 6,
   "metadata": {},
   "outputs": [
    {
     "name": "stdout",
     "output_type": "stream",
     "text": [
      "package:requests\n",
      "filename:\n",
      "log:\n",
      "timeout:10\n",
      "sleep:{'1': 1, '200': 3600}\n",
      "headless:True\n"
     ]
    }
   ],
   "source": [
    "#Driver key-values\n",
    "for k,v in aconfig['driver'].items():\n",
    "    if k !='headers':\n",
    "        print(k + ':' + str(v))"
   ]
  },
  {
   "cell_type": "code",
   "execution_count": 7,
   "metadata": {},
   "outputs": [
    {
     "data": {
      "text/plain": [
       "{'user-agent': 'Mozilla/5.0 (Windows NT 10.0; Win64; x64; rv:81.0) Gecko/20100101 Firefox/81.0',\n",
       " 'accept': 'text/html,application/xhtml+xml,application/xml;q=0.9,image/webp,*/*;q=0.8',\n",
       " 'accept-language': 'nl,en-US;q=0.7,en;q=0.3',\n",
       " 'accept-encoding': 'gzip, deflate, br'}"
      ]
     },
     "execution_count": 7,
     "metadata": {},
     "output_type": "execute_result"
    }
   ],
   "source": [
    "#Driver headers dictionary\n",
    "aconfig['driver']['headers']"
   ]
  },
  {
   "cell_type": "markdown",
   "metadata": {},
   "source": [
    "**website**\n",
    "\n",
    "Website contains a dictionary with data on the website HTML layout.\n",
    "\n",
    "Name|Type|Description\n",
    ":-|:-|:-\n",
    "parser|str | 'html.parser'\n",
    "id| str | \n",
    "rows| dict  | \n",
    "columns| dict |  \n",
    "page| dict | "
   ]
  },
  {
   "cell_type": "code",
   "execution_count": 8,
   "metadata": {},
   "outputs": [
    {
     "data": {
      "text/plain": [
       "{'parser': 'html.parser',\n",
       " 'id': '',\n",
       " 'rows': {'elem': {}, 'class': {}},\n",
       " 'columns': {},\n",
       " 'page': {'id': {}, 'elem': {}, 'class': {}}}"
      ]
     },
     "execution_count": 8,
     "metadata": {},
     "output_type": "execute_result"
    }
   ],
   "source": [
    "aconfig['website']"
   ]
  },
  {
   "cell_type": "markdown",
   "metadata": {},
   "source": [
    "**dataset**\n",
    "\n",
    "Dataset contains a dictionary with data on dataset output file handling.\n",
    "\n",
    "Name|Type|Description\n",
    ":-|:-|:-\n",
    "filename|str | Filname output file\n",
    "date_format| str | Date format\n",
    "overwrite| bool  | Overwrite existing file if true XX if false\n",
    "\n",
    "The folder separator in filenames can be either represented by a double backslash `\\\\` or a slash `/`."
   ]
  },
  {
   "cell_type": "code",
   "execution_count": 9,
   "metadata": {},
   "outputs": [
    {
     "data": {
      "text/plain": [
       "{'filename': '', 'date_format': '%Y%m%d', 'overwrite': False}"
      ]
     },
     "execution_count": 9,
     "metadata": {},
     "output_type": "execute_result"
    }
   ],
   "source": [
    "aconfig['dataset']"
   ]
  },
  {
   "cell_type": "markdown",
   "metadata": {},
   "source": [
    "## Config functions\n",
    "The modules contains the following functions: `read`,`write` and `process`."
   ]
  },
  {
   "cell_type": "code",
   "execution_count": 10,
   "metadata": {},
   "outputs": [
    {
     "data": {
      "text/plain": [
       "{'url': 'https://www.crummy.com/software/BeautifulSoup/bs4/doc/',\n",
       " 'driver': {'package': 'requests',\n",
       "  'headers': {'user-agent': 'Mozilla/5.0 (Windows NT 10.0; Win64; x64; rv:81.0) Gecko/20100101 Firefox/81.0',\n",
       "   'accept': 'text/html,application/xhtml+xml,application/xml;q=0.9,image/webp,*/*;q=0.8',\n",
       "   'accept-language': 'nl,en-US;q=0.7,en;q=0.3',\n",
       "   'accept-encoding': 'gzip, deflate, br'},\n",
       "  'filename': '',\n",
       "  'log': '',\n",
       "  'timeout': 10,\n",
       "  'sleep': {'1': 1, '200': 3600},\n",
       "  'headless': True},\n",
       " 'website': {'parser': 'html.parser',\n",
       "  'id': '',\n",
       "  'rows': {'elem': {}, 'class': {}},\n",
       "  'columns': {},\n",
       "  'page': {'id': {}, 'elem': {}, 'class': {}}},\n",
       " 'dataset': {'filename': '', 'date_format': '%Y%m%d', 'overwrite': False}}"
      ]
     },
     "execution_count": 10,
     "metadata": {},
     "output_type": "execute_result"
    }
   ],
   "source": [
    "#Write config to file\n",
    "filename = 'config.csv'\n",
    "scrape.config.write(filename, aconfig)\n",
    "os.path.exists(filename)\n",
    "\n",
    "#Read config from file\n",
    "bconfig = scrape.config.read(filename)\n",
    "bconfig"
   ]
  },
  {
   "cell_type": "markdown",
   "metadata": {},
   "source": [
    "One can process a config file. Processing is a form of validation where non-keys are removed, and non-existing keys are added with default values."
   ]
  },
  {
   "cell_type": "code",
   "execution_count": 11,
   "metadata": {},
   "outputs": [
    {
     "data": {
      "text/plain": [
       "{'url': 'https://www.crummy.com/software/BeautifulSoup/bs4/doc/',\n",
       " 'website': {'parser': 'html.parser',\n",
       "  'id': '',\n",
       "  'rows': {'elem': {}, 'class': {}},\n",
       "  'columns': {},\n",
       "  'page': {'id': {}, 'elem': {}, 'class': {}}},\n",
       " 'dataset': {'filename': '', 'date_format': '%Y%m%d', 'overwrite': False},\n",
       " 'driver': {'package': 'requests',\n",
       "  'headers': {'user-agent': 'Mozilla/5.0 (Windows NT 10.0; Win64; x64; rv:81.0) Gecko/20100101 Firefox/81.0',\n",
       "   'accept': 'text/html,application/xhtml+xml,application/xml;q=0.9,image/webp,*/*;q=0.8',\n",
       "   'accept-language': 'nl,en-US;q=0.7,en;q=0.3',\n",
       "   'accept-encoding': 'gzip, deflate, br'},\n",
       "  'filename': '',\n",
       "  'log': '',\n",
       "  'timeout': 10,\n",
       "  'sleep': {'1': 1, '200': 3600},\n",
       "  'headless': True}}"
      ]
     },
     "execution_count": 11,
     "metadata": {},
     "output_type": "execute_result"
    }
   ],
   "source": [
    "# Add non-existing key\n",
    "aconfig['non-key'] = {}\n",
    "#Remove driver key\n",
    "aconfig.pop('driver')\n",
    "\n",
    "#Process a config\n",
    "scrape.config.process(aconfig)\n",
    "aconfig"
   ]
  },
  {
   "cell_type": "markdown",
   "metadata": {},
   "source": [
    "# Versions"
   ]
  },
  {
   "cell_type": "code",
   "execution_count": 12,
   "metadata": {},
   "outputs": [
    {
     "name": "stdout",
     "output_type": "stream",
     "text": [
      "Last updated: 2021-11-28T16:47:40.732052+01:00\n",
      "\n",
      "Python implementation: CPython\n",
      "Python version       : 3.7.9\n",
      "IPython version      : 7.19.0\n",
      "\n",
      "Compiler    : MSC v.1916 64 bit (AMD64)\n",
      "OS          : Windows\n",
      "Release     : 10\n",
      "Machine     : AMD64\n",
      "Processor   : Intel64 Family 6 Model 60 Stepping 3, GenuineIntel\n",
      "CPU cores   : 8\n",
      "Architecture: 64bit\n",
      "\n"
     ]
    }
   ],
   "source": [
    "%reload_ext watermark\n",
    "%watermark"
   ]
  }
 ],
 "metadata": {
  "kernelspec": {
   "display_name": "Python [conda env:snowflakes]",
   "language": "python",
   "name": "conda-env-snowflakes-py"
  },
  "language_info": {
   "codemirror_mode": {
    "name": "ipython",
    "version": 3
   },
   "file_extension": ".py",
   "mimetype": "text/x-python",
   "name": "python",
   "nbconvert_exporter": "python",
   "pygments_lexer": "ipython3",
   "version": "3.7.9"
  }
 },
 "nbformat": 4,
 "nbformat_minor": 4
}
