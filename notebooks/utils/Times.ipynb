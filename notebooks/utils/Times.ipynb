{
 "cells": [
  {
   "cell_type": "markdown",
   "metadata": {},
   "source": [
    "# Times\n",
    "\n",
    "Times is a module that contains functions that interact with times and dates. The module offers a more general implementation of the function `strftime` from the standard library `time`.\n"
   ]
  },
  {
   "cell_type": "markdown",
   "metadata": {},
   "source": [
    "# Initialization\n",
    "\n",
    "The following code imports `times`. The code assumes that the current directory contains the scrape package."
   ]
  },
  {
   "cell_type": "code",
   "execution_count": 3,
   "metadata": {},
   "outputs": [
    {
     "name": "stdout",
     "output_type": "stream",
     "text": [
      "Project folder: D:\\Projects\\Python\\projects\\scrape\n"
     ]
    }
   ],
   "source": [
    "import os\n",
    "import sys\n",
    "import time\n",
    "PROJECT_DIR = os.path.dirname(os.path.abspath('..'))\n",
    "print('Project folder: ' + PROJECT_DIR)\n",
    "sys.path.append(PROJECT_DIR)\n",
    "from scrape.utils import times"
   ]
  },
  {
   "cell_type": "markdown",
   "metadata": {},
   "source": [
    "# Working with times\n",
    "In this example we given an overview of functions in `times`. Time can be represented as `float`, `struct_time` or as `tuple`."
   ]
  },
  {
   "cell_type": "markdown",
   "metadata": {},
   "source": [
    "### Printing a string with current datetime\n",
    "The function `strftime` returns a formatted string which contains date/time and a text string."
   ]
  },
  {
   "cell_type": "code",
   "execution_count": 4,
   "metadata": {},
   "outputs": [
    {
     "name": "stdout",
     "output_type": "stream",
     "text": [
      "2021-12-24 12:43:03 \n"
     ]
    }
   ],
   "source": [
    "astr = times.strftime()\n",
    "print(astr)"
   ]
  },
  {
   "cell_type": "markdown",
   "metadata": {},
   "source": [
    "### Printing a string with custom datetime\n",
    "The function `strftime` accepts time `t`, a string `string`, a date formate `date_format`."
   ]
  },
  {
   "cell_type": "code",
   "execution_count": 5,
   "metadata": {},
   "outputs": [
    {
     "name": "stdout",
     "output_type": "stream",
     "text": [
      "2021-10-30 13:06:54 Hello World\n"
     ]
    }
   ],
   "source": [
    "t = time.time()\n",
    "sep = ' '\n",
    "astr = 'Hello World'\n",
    "date_format = '%Y-%m-%d %H:%M:%S'\n",
    "astr = times.strftime(t=t, string=astr, sep=sep, date_format=date_format)\n",
    "print(astr)"
   ]
  },
  {
   "cell_type": "markdown",
   "metadata": {},
   "source": [
    "### Printing a string with current date\n",
    "The function `strfdate` returns a formatted string which contains date and a text string."
   ]
  },
  {
   "cell_type": "code",
   "execution_count": 4,
   "metadata": {},
   "outputs": [
    {
     "name": "stdout",
     "output_type": "stream",
     "text": [
      "2021-10-28 \n"
     ]
    }
   ],
   "source": [
    "astr = times.strfdate()\n",
    "print(astr)"
   ]
  },
  {
   "cell_type": "markdown",
   "metadata": {},
   "source": [
    "### Printing a string with custom date\n",
    "The function `strfdate` accepts time `t`, a string `string`, a date formate `date_format`."
   ]
  },
  {
   "cell_type": "code",
   "execution_count": 5,
   "metadata": {},
   "outputs": [
    {
     "name": "stdout",
     "output_type": "stream",
     "text": [
      "2021-10-28 Hello World\n"
     ]
    }
   ],
   "source": [
    "t = time.time()\n",
    "sep = ' '\n",
    "astr = 'Hello World'\n",
    "date_format = '%Y-%m-%d'\n",
    "str = times.strfdate(t=t, string=astr, sep=sep, date_format=date_format)\n",
    "print(str)"
   ]
  },
  {
   "cell_type": "markdown",
   "metadata": {},
   "source": [
    "## Converting times\n",
    "The standard library `time` uses the types float, tuples and time.struct_time to represent datetime variables. The functions `to_float`, `to_tuple`, and `to_struct_time` can be used to convert to any of these datatypes."
   ]
  },
  {
   "cell_type": "code",
   "execution_count": 6,
   "metadata": {},
   "outputs": [
    {
     "name": "stdout",
     "output_type": "stream",
     "text": [
      "time.struct_time(tm_year=2021, tm_mon=10, tm_mday=28, tm_hour=22, tm_min=7, tm_sec=21, tm_wday=3, tm_yday=301, tm_isdst=1)\n"
     ]
    },
    {
     "data": {
      "text/plain": [
       "time.struct_time"
      ]
     },
     "execution_count": 6,
     "metadata": {},
     "output_type": "execute_result"
    }
   ],
   "source": [
    "ftime = time.time()\n",
    "stime = times.to_struct_time()\n",
    "print(stime)\n",
    "type(stime)"
   ]
  },
  {
   "cell_type": "code",
   "execution_count": 11,
   "metadata": {},
   "outputs": [
    {
     "name": "stdout",
     "output_type": "stream",
     "text": [
      "(2021, 6, 5, 18, 48, 27, 5, 156, 1)\n"
     ]
    },
    {
     "data": {
      "text/plain": [
       "tuple"
      ]
     },
     "execution_count": 11,
     "metadata": {},
     "output_type": "execute_result"
    }
   ],
   "source": [
    "ftime = time.time()\n",
    "ttime = times.to_tuple()\n",
    "print(ttime)\n",
    "type(ttime)"
   ]
  },
  {
   "cell_type": "code",
   "execution_count": 14,
   "metadata": {},
   "outputs": [
    {
     "name": "stdout",
     "output_type": "stream",
     "text": [
      "1622911752.5050845\n"
     ]
    },
    {
     "data": {
      "text/plain": [
       "float"
      ]
     },
     "execution_count": 14,
     "metadata": {},
     "output_type": "execute_result"
    }
   ],
   "source": [
    "ftime = time.time()\n",
    "ttime = times.to_tuple()\n",
    "ftime = times.to_float()\n",
    "print(ftime)\n",
    "type(ftime)"
   ]
  },
  {
   "cell_type": "markdown",
   "metadata": {},
   "source": [
    "# Versions"
   ]
  },
  {
   "cell_type": "code",
   "execution_count": 6,
   "metadata": {},
   "outputs": [
    {
     "name": "stdout",
     "output_type": "stream",
     "text": [
      "Last updated: 2021-06-05T18:45:01.806305+02:00\n",
      "\n",
      "Python implementation: CPython\n",
      "Python version       : 3.7.9\n",
      "IPython version      : 7.19.0\n",
      "\n",
      "Compiler    : MSC v.1916 64 bit (AMD64)\n",
      "OS          : Windows\n",
      "Release     : 10\n",
      "Machine     : AMD64\n",
      "Processor   : Intel64 Family 6 Model 60 Stepping 3, GenuineIntel\n",
      "CPU cores   : 8\n",
      "Architecture: 64bit\n",
      "\n"
     ]
    }
   ],
   "source": [
    "%reload_ext watermark\n",
    "%watermark"
   ]
  }
 ],
 "metadata": {
  "kernelspec": {
   "display_name": "Python [conda env:snowflakes]",
   "language": "python",
   "name": "conda-env-snowflakes-py"
  },
  "language_info": {
   "codemirror_mode": {
    "name": "ipython",
    "version": 3
   },
   "file_extension": ".py",
   "mimetype": "text/x-python",
   "name": "python",
   "nbconvert_exporter": "python",
   "pygments_lexer": "ipython3",
   "version": "3.9.7"
  }
 },
 "nbformat": 4,
 "nbformat_minor": 4
}
