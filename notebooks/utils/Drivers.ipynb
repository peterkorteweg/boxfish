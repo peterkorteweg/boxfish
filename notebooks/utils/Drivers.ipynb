{
 "cells": [
  {
   "cell_type": "markdown",
   "metadata": {},
   "source": [
    "# Drivers\n",
    "\n",
    "Drivers is a module that contains functions to access HTML pages via HTTP."
   ]
  },
  {
   "cell_type": "markdown",
   "metadata": {},
   "source": [
    "# Initialization\n",
    "\n",
    "The following code imports drivers. The code assumes that the current directory contains the scrape package."
   ]
  },
  {
   "cell_type": "code",
   "execution_count": 1,
   "metadata": {},
   "outputs": [
    {
     "name": "stdout",
     "output_type": "stream",
     "text": [
      "Project folder: D:\\Projects\\Python\\projects\\scrape\n",
      "Initializing scrape ...\n"
     ]
    }
   ],
   "source": [
    "import os\n",
    "import sys\n",
    "PROJECT_DIR = os.path.dirname(os.path.abspath('..'))\n",
    "print('Project folder: ' + PROJECT_DIR)\n",
    "sys.path.append(PROJECT_DIR)\n",
    "\n",
    "from scrape import drivers"
   ]
  },
  {
   "cell_type": "markdown",
   "metadata": {},
   "source": [
    "# Working with drivers"
   ]
  },
  {
   "cell_type": "markdown",
   "metadata": {},
   "source": [
    "### Creating parameters \n",
    "\n",
    "In order to work with a driver one needs to provide a dictionary of parameters. A default dictionary can be created with the function `get_params`.\n",
    "\n",
    "The main parameter is `package`. The supported packages are `requests` and `selenium.`\n",
    "- `requests` is an elegant and simple HTTP library for Python, built for human beings. More information [here](https://docs.python-requests.org/en/master/).\n",
    "- `selenium` is used to automate web browser interaction from Python. More information [here](https://pypi.org/project/selenium/).\n"
   ]
  },
  {
   "cell_type": "code",
   "execution_count": 3,
   "metadata": {},
   "outputs": [
    {
     "data": {
      "text/plain": [
       "{'package': 'requests',\n",
       " 'headers': '',\n",
       " 'timeout': 10,\n",
       " 'filename': '',\n",
       " 'log': '',\n",
       " 'headless': True}"
      ]
     },
     "execution_count": 3,
     "metadata": {},
     "output_type": "execute_result"
    }
   ],
   "source": [
    "params = drivers.get_params()\n",
    "params"
   ]
  },
  {
   "cell_type": "markdown",
   "metadata": {},
   "source": [
    "### Starting and stopping a driver\n",
    "In this example we will start and stop a driver. We use the functions `start_driver` and `stop_driver`."
   ]
  },
  {
   "cell_type": "code",
   "execution_count": 4,
   "metadata": {},
   "outputs": [
    {
     "data": {
      "text/plain": [
       "requests.sessions.Session"
      ]
     },
     "execution_count": 4,
     "metadata": {},
     "output_type": "execute_result"
    }
   ],
   "source": [
    "adriver = drivers.driver_start(params)\n",
    "drivers.driver_stop(adriver)  \n",
    "type(adriver)"
   ]
  },
  {
   "cell_type": "markdown",
   "metadata": {},
   "source": [
    "### Retrieving HTML pages\n",
    "There are two ways to retrieve HTML pages: one can use `get_page` to retrieve a single page, or one can use `request_page` to retrieve multiple pages with the same driver connection.\n",
    "\n",
    "**Get a page**\n",
    "\n",
    "`get_page` only requires an url as input."
   ]
  },
  {
   "cell_type": "code",
   "execution_count": 5,
   "metadata": {},
   "outputs": [
    {
     "data": {
      "text/plain": [
       "'\\n<!DOCTYPE html>\\n\\n<html>\\n  <head>\\n    <meta charset=\"utf-8\" />\\n    <meta name=\"viewport\" content=\"wi'"
      ]
     },
     "execution_count": 5,
     "metadata": {},
     "output_type": "execute_result"
    }
   ],
   "source": [
    "url = 'https://www.crummy.com/software/BeautifulSoup/bs4/doc/'\n",
    "page = drivers.get_page(url)\n",
    "page[:100]"
   ]
  },
  {
   "cell_type": "markdown",
   "metadata": {},
   "source": [
    "**Request a page**\n",
    "\n",
    "`request_page` requires a driver and an url as input."
   ]
  },
  {
   "cell_type": "code",
   "execution_count": 8,
   "metadata": {},
   "outputs": [
    {
     "data": {
      "text/plain": [
       "'\\n<!DOCTYPE html>\\n\\n<html>\\n  <head>\\n    <meta charset=\"utf-8\" />\\n    <meta name=\"viewport\" content=\"wi'"
      ]
     },
     "execution_count": 8,
     "metadata": {},
     "output_type": "execute_result"
    }
   ],
   "source": [
    "url = 'https://www.crummy.com/software/BeautifulSoup/bs4/doc/'\n",
    "adriver = drivers.driver_start(params)\n",
    "page = drivers.request_page(adriver,url)\n",
    "drivers.driver_stop(adriver)  \n",
    "page[:100]"
   ]
  },
  {
   "cell_type": "markdown",
   "metadata": {},
   "source": [
    "# Versions"
   ]
  },
  {
   "cell_type": "code",
   "execution_count": 7,
   "metadata": {},
   "outputs": [
    {
     "name": "stdout",
     "output_type": "stream",
     "text": [
      "Last updated: 2021-10-30T13:13:40.570962+02:00\n",
      "\n",
      "Python implementation: CPython\n",
      "Python version       : 3.7.9\n",
      "IPython version      : 7.19.0\n",
      "\n",
      "Compiler    : MSC v.1916 64 bit (AMD64)\n",
      "OS          : Windows\n",
      "Release     : 10\n",
      "Machine     : AMD64\n",
      "Processor   : Intel64 Family 6 Model 60 Stepping 3, GenuineIntel\n",
      "CPU cores   : 8\n",
      "Architecture: 64bit\n",
      "\n",
      "sys: 3.7.9 | packaged by conda-forge | (default, Dec  9 2020, 20:36:16) [MSC v.1916 64 bit (AMD64)]\n",
      "\n",
      "requests: 2.24.0\n",
      "\n",
      "selenium: 3.141.0\n",
      "\n"
     ]
    }
   ],
   "source": [
    "%reload_ext watermark\n",
    "%watermark\n",
    "\n",
    "%watermark -iv\n",
    "\n",
    "packages = ['requests','selenium']\n",
    "for package in packages:\n",
    "    %watermark -p {package}"
   ]
  }
 ],
 "metadata": {
  "kernelspec": {
   "display_name": "Python [conda env:snowflakes]",
   "language": "python",
   "name": "conda-env-snowflakes-py"
  },
  "language_info": {
   "codemirror_mode": {
    "name": "ipython",
    "version": 3
   },
   "file_extension": ".py",
   "mimetype": "text/x-python",
   "name": "python",
   "nbconvert_exporter": "python",
   "pygments_lexer": "ipython3",
   "version": "3.9.7"
  }
 },
 "nbformat": 4,
 "nbformat_minor": 4
}
