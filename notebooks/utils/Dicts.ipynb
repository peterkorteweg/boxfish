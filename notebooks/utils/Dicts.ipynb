{
 "cells": [
  {
   "cell_type": "markdown",
   "metadata": {},
   "source": [
    "# Dicts\n",
    "\n",
    "Dicts is a module that contains functions for dictionaries.\n"
   ]
  },
  {
   "cell_type": "markdown",
   "metadata": {},
   "source": [
    "# Initialization\n",
    "\n",
    "The following code imports `dicts`. The code assumes that the current directory contains the scrape package."
   ]
  },
  {
   "cell_type": "code",
   "execution_count": 1,
   "metadata": {},
   "outputs": [
    {
     "name": "stdout",
     "output_type": "stream",
     "text": [
      "Project folder: D:\\Projects\\Python\\projects\\scrape\n",
      "Initializing scrape ...\n"
     ]
    }
   ],
   "source": [
    "import os\n",
    "import sys\n",
    "import time\n",
    "PROJECT_DIR = os.path.dirname(os.path.abspath('..'))\n",
    "print('Project folder: ' + PROJECT_DIR)\n",
    "sys.path.append(PROJECT_DIR)\n",
    "\n",
    "from scrape import dicts"
   ]
  },
  {
   "cell_type": "markdown",
   "metadata": {},
   "source": [
    "# Working with dicts\n",
    "In this example we given an overview of functions in `dicts`. All functions that return a dictionary provide a deep copy."
   ]
  },
  {
   "cell_type": "code",
   "execution_count": 2,
   "metadata": {},
   "outputs": [],
   "source": [
    "adict = dict()\n",
    "value1 = 'value1'\n",
    "value2 = 'value2'\n",
    "value3 = None\n",
    "adict['key1'] = value1\n",
    "adict['key2'] = value2\n",
    "adict['key3'] = value3\n",
    "\n",
    "bdict = dict()\n",
    "valueb1 = 'value b1'\n",
    "valueb2 = 'value b2'\n",
    "valueb3 = 'value b3'\n",
    "bdict['keyb3'] = valueb3\n",
    "bdict['keyb2'] = valueb2\n",
    "bdict['keyb1'] = valueb1\n",
    "bdict['key1'] = valueb1"
   ]
  },
  {
   "cell_type": "markdown",
   "metadata": {},
   "source": [
    "### Get a dataframe for a subset of keys\n",
    "The function `get_subset` returns a dataframe for a subset of keys."
   ]
  },
  {
   "cell_type": "code",
   "execution_count": 3,
   "metadata": {},
   "outputs": [
    {
     "data": {
      "text/plain": [
       "{'key1': 'value1', 'key3': None}"
      ]
     },
     "execution_count": 3,
     "metadata": {},
     "output_type": "execute_result"
    }
   ],
   "source": [
    "keys_subset = ['key1','key3']\n",
    "\n",
    "cdict = dicts.get_subset(adict, keys_subset)\n",
    "cdict"
   ]
  },
  {
   "cell_type": "markdown",
   "metadata": {},
   "source": [
    "### Extract list of values for a subset fo keys\n",
    "The function `extract_values` returns a list of values for a subset of keys. Missing keys are filled with None."
   ]
  },
  {
   "cell_type": "code",
   "execution_count": 4,
   "metadata": {},
   "outputs": [
    {
     "data": {
      "text/plain": [
       "[None, 'value1', None]"
      ]
     },
     "execution_count": 4,
     "metadata": {},
     "output_type": "execute_result"
    }
   ],
   "source": [
    "keys_subset = ['key3','key1','key4']\n",
    "\n",
    "alist = dicts.extract_values(adict,keys_subset)\n",
    "alist"
   ]
  },
  {
   "cell_type": "markdown",
   "metadata": {},
   "source": [
    "### Append a dictionary to a dictionary\n",
    "The function `append` appends a dictionary to an existing dictionary. Duplicate entries in bdict overwrite entries from adict."
   ]
  },
  {
   "cell_type": "code",
   "execution_count": 5,
   "metadata": {},
   "outputs": [
    {
     "data": {
      "text/plain": [
       "{'key1': 'value b1',\n",
       " 'key2': 'value2',\n",
       " 'key3': None,\n",
       " 'keyb3': 'value b3',\n",
       " 'keyb2': 'value b2',\n",
       " 'keyb1': 'value b1'}"
      ]
     },
     "execution_count": 5,
     "metadata": {},
     "output_type": "execute_result"
    }
   ],
   "source": [
    "ddict = dicts.append(adict,bdict)\n",
    "ddict"
   ]
  },
  {
   "cell_type": "markdown",
   "metadata": {},
   "source": [
    "### Remove none values\n",
    "The function `remove_nones` removes all key-value pairs with a None value."
   ]
  },
  {
   "cell_type": "code",
   "execution_count": 6,
   "metadata": {},
   "outputs": [
    {
     "data": {
      "text/plain": [
       "{'key1': 'value1', 'key2': 'value2'}"
      ]
     },
     "execution_count": 6,
     "metadata": {},
     "output_type": "execute_result"
    }
   ],
   "source": [
    "edict = dicts.remove_nones(adict)\n",
    "edict"
   ]
  },
  {
   "cell_type": "markdown",
   "metadata": {},
   "source": [
    "### Empty dictionaries\n",
    "An empty dictionary can be defined as {}. To assess if a dictionary contains items, one can simple use the name in a logical assignment."
   ]
  },
  {
   "cell_type": "code",
   "execution_count": 7,
   "metadata": {},
   "outputs": [
    {
     "name": "stdout",
     "output_type": "stream",
     "text": [
      "Empty\n",
      "Not empty\n"
     ]
    }
   ],
   "source": [
    "empty_dict = {}\n",
    "full_dict = {1,2,4}\n",
    "print (\"Not empty\") if empty_dict else print (\"Empty\")\n",
    "print (\"Not empty\") if full_dict else print (\"Empty\")"
   ]
  },
  {
   "cell_type": "markdown",
   "metadata": {},
   "source": [
    "# Versions"
   ]
  },
  {
   "cell_type": "code",
   "execution_count": 8,
   "metadata": {},
   "outputs": [
    {
     "name": "stdout",
     "output_type": "stream",
     "text": [
      "Last updated: 2021-12-24T12:45:15.181731+01:00\n",
      "\n",
      "Python implementation: CPython\n",
      "Python version       : 3.9.7\n",
      "IPython version      : 7.30.1\n",
      "\n",
      "Compiler    : MSC v.1916 64 bit (AMD64)\n",
      "OS          : Windows\n",
      "Release     : 10\n",
      "Machine     : AMD64\n",
      "Processor   : Intel64 Family 6 Model 60 Stepping 3, GenuineIntel\n",
      "CPU cores   : 8\n",
      "Architecture: 64bit\n",
      "\n"
     ]
    }
   ],
   "source": [
    "%reload_ext watermark\n",
    "%watermark"
   ]
  }
 ],
 "metadata": {
  "kernelspec": {
   "display_name": "Python [conda env:snowflakes]",
   "language": "python",
   "name": "conda-env-snowflakes-py"
  },
  "language_info": {
   "codemirror_mode": {
    "name": "ipython",
    "version": 3
   },
   "file_extension": ".py",
   "mimetype": "text/x-python",
   "name": "python",
   "nbconvert_exporter": "python",
   "pygments_lexer": "ipython3",
   "version": "3.9.7"
  }
 },
 "nbformat": 4,
 "nbformat_minor": 4
}
